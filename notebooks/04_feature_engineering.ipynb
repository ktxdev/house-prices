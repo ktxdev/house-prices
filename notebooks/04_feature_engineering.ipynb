{
 "cells": [
  {
   "cell_type": "markdown",
   "id": "4da583ab-7a01-4df2-a8a2-71a405ca6aa1",
   "metadata": {
    "collapsed": true,
    "jupyter": {
     "outputs_hidden": true
    }
   },
   "source": [
    "# Import Packages"
   ]
  },
  {
   "cell_type": "code",
   "execution_count": 1,
   "id": "e3e0167c-697d-4e3b-9697-d00a389430a9",
   "metadata": {},
   "outputs": [],
   "source": [
    "import os\n",
    "import sys\n",
    "import pandas as pd\n",
    "\n",
    "project_root = os.path.abspath(\"..\")\n",
    "if project_root not in sys.path:\n",
    "    sys.path.append(project_root)\n",
    "\n",
    "from utils.helpers import load_data\n",
    "from data.feature_engineering import handle_rare_categories, encode_categories, normalize_numerics"
   ]
  },
  {
   "cell_type": "markdown",
   "id": "9c90ca6f-06fa-4d0c-b20b-9753cc8d123f",
   "metadata": {},
   "source": [
    "# Loading Data"
   ]
  },
  {
   "cell_type": "code",
   "execution_count": 2,
   "id": "0b77044c-4a2c-4800-a410-b5826f44976c",
   "metadata": {},
   "outputs": [],
   "source": [
    "data = load_data(\"train_cleaned.csv\")"
   ]
  },
  {
   "cell_type": "markdown",
   "id": "35a75546-4aca-4b3f-89c2-e4ad075e3d03",
   "metadata": {},
   "source": [
    "# Handle Rare Categorical Variables\n",
    "1. **MSSubClass:** Categories with with fewer than, 20 observations have been put into a category named 'Other'"
   ]
  },
  {
   "cell_type": "code",
   "execution_count": 3,
   "id": "d8d81439-faff-4d18-8a63-25c1ed65f31b",
   "metadata": {},
   "outputs": [],
   "source": [
    "data = handle_rare_categories(data)"
   ]
  },
  {
   "cell_type": "markdown",
   "id": "af6876e7-ca5d-4415-96df-0a8623d47d94",
   "metadata": {},
   "source": [
    "# Encode Categorical Variables\n",
    "1. **MSSubClass:** We will use frequency encoding which reduces spacity and will account for the rarity of other categories\n",
    "2. **MSZoning:** We will use onehot encoding"
   ]
  },
  {
   "cell_type": "code",
   "execution_count": 4,
   "id": "798ae9ad-468b-4b84-a6c7-0ed5a1f09bce",
   "metadata": {},
   "outputs": [],
   "source": [
    "data = encode_categories(data)"
   ]
  },
  {
   "cell_type": "markdown",
   "id": "2532f3e4-227d-4353-8954-54addd59ce90",
   "metadata": {},
   "source": [
    "# Normalize Numerical Features"
   ]
  },
  {
   "cell_type": "code",
   "execution_count": 5,
   "id": "1f472327-1d07-4ac9-a796-631117d32423",
   "metadata": {},
   "outputs": [],
   "source": [
    "data = normalize_numerics(data)"
   ]
  },
  {
   "cell_type": "code",
   "execution_count": 6,
   "id": "325e00a6-d63f-42f0-bbbc-a0a84436f894",
   "metadata": {},
   "outputs": [
    {
     "data": {
      "text/html": [
       "<div>\n",
       "<style scoped>\n",
       "    .dataframe tbody tr th:only-of-type {\n",
       "        vertical-align: middle;\n",
       "    }\n",
       "\n",
       "    .dataframe tbody tr th {\n",
       "        vertical-align: top;\n",
       "    }\n",
       "\n",
       "    .dataframe thead th {\n",
       "        text-align: right;\n",
       "    }\n",
       "</style>\n",
       "<table border=\"1\" class=\"dataframe\">\n",
       "  <thead>\n",
       "    <tr style=\"text-align: right;\">\n",
       "      <th></th>\n",
       "      <th>Id</th>\n",
       "      <th>MSSubClass</th>\n",
       "      <th>LotFrontage</th>\n",
       "      <th>LotArea</th>\n",
       "      <th>Street</th>\n",
       "      <th>Alley</th>\n",
       "      <th>LotShape</th>\n",
       "      <th>LandContour</th>\n",
       "      <th>Utilities</th>\n",
       "      <th>LotConfig</th>\n",
       "      <th>...</th>\n",
       "      <th>MoSold</th>\n",
       "      <th>YrSold</th>\n",
       "      <th>SaleType</th>\n",
       "      <th>SaleCondition</th>\n",
       "      <th>SalePrice</th>\n",
       "      <th>MSSubClass_Encoded</th>\n",
       "      <th>MSZoning_Floating Village Residential</th>\n",
       "      <th>MSZoning_Residential High Density</th>\n",
       "      <th>MSZoning_Residential Low Density</th>\n",
       "      <th>MSZoning_Residential Medium Density</th>\n",
       "    </tr>\n",
       "  </thead>\n",
       "  <tbody>\n",
       "    <tr>\n",
       "      <th>0</th>\n",
       "      <td>1</td>\n",
       "      <td>2-STORY 1946 &amp; NEWER</td>\n",
       "      <td>0.377974</td>\n",
       "      <td>8450</td>\n",
       "      <td>Paved</td>\n",
       "      <td>NaN</td>\n",
       "      <td>Regular</td>\n",
       "      <td>Near Flat/Level</td>\n",
       "      <td>All Public Utilities</td>\n",
       "      <td>Inside Lot</td>\n",
       "      <td>...</td>\n",
       "      <td>2</td>\n",
       "      <td>2008</td>\n",
       "      <td>Warranty Deed - Conventional</td>\n",
       "      <td>Normal Sale</td>\n",
       "      <td>208500</td>\n",
       "      <td>299</td>\n",
       "      <td>0.0</td>\n",
       "      <td>0.0</td>\n",
       "      <td>1.0</td>\n",
       "      <td>0.0</td>\n",
       "    </tr>\n",
       "    <tr>\n",
       "      <th>1</th>\n",
       "      <td>2</td>\n",
       "      <td>1-STORY 1946 &amp; NEWER ALL STYLES</td>\n",
       "      <td>0.506829</td>\n",
       "      <td>9600</td>\n",
       "      <td>Paved</td>\n",
       "      <td>NaN</td>\n",
       "      <td>Regular</td>\n",
       "      <td>Near Flat/Level</td>\n",
       "      <td>All Public Utilities</td>\n",
       "      <td>Frontage on 2 Sides</td>\n",
       "      <td>...</td>\n",
       "      <td>5</td>\n",
       "      <td>2007</td>\n",
       "      <td>Warranty Deed - Conventional</td>\n",
       "      <td>Normal Sale</td>\n",
       "      <td>181500</td>\n",
       "      <td>536</td>\n",
       "      <td>0.0</td>\n",
       "      <td>0.0</td>\n",
       "      <td>1.0</td>\n",
       "      <td>0.0</td>\n",
       "    </tr>\n",
       "    <tr>\n",
       "      <th>2</th>\n",
       "      <td>3</td>\n",
       "      <td>2-STORY 1946 &amp; NEWER</td>\n",
       "      <td>0.403745</td>\n",
       "      <td>11250</td>\n",
       "      <td>Paved</td>\n",
       "      <td>NaN</td>\n",
       "      <td>Slightly Irregular</td>\n",
       "      <td>Near Flat/Level</td>\n",
       "      <td>All Public Utilities</td>\n",
       "      <td>Inside Lot</td>\n",
       "      <td>...</td>\n",
       "      <td>9</td>\n",
       "      <td>2008</td>\n",
       "      <td>Warranty Deed - Conventional</td>\n",
       "      <td>Normal Sale</td>\n",
       "      <td>223500</td>\n",
       "      <td>299</td>\n",
       "      <td>0.0</td>\n",
       "      <td>0.0</td>\n",
       "      <td>1.0</td>\n",
       "      <td>0.0</td>\n",
       "    </tr>\n",
       "    <tr>\n",
       "      <th>3</th>\n",
       "      <td>4</td>\n",
       "      <td>2-STORY 1945 &amp; OLDER</td>\n",
       "      <td>0.335023</td>\n",
       "      <td>9550</td>\n",
       "      <td>Paved</td>\n",
       "      <td>NaN</td>\n",
       "      <td>Slightly Irregular</td>\n",
       "      <td>Near Flat/Level</td>\n",
       "      <td>All Public Utilities</td>\n",
       "      <td>Corner Lot</td>\n",
       "      <td>...</td>\n",
       "      <td>2</td>\n",
       "      <td>2006</td>\n",
       "      <td>Warranty Deed - Conventional</td>\n",
       "      <td>Abnormal Sale</td>\n",
       "      <td>140000</td>\n",
       "      <td>60</td>\n",
       "      <td>0.0</td>\n",
       "      <td>0.0</td>\n",
       "      <td>1.0</td>\n",
       "      <td>0.0</td>\n",
       "    </tr>\n",
       "    <tr>\n",
       "      <th>4</th>\n",
       "      <td>5</td>\n",
       "      <td>2-STORY 1946 &amp; NEWER</td>\n",
       "      <td>0.541191</td>\n",
       "      <td>14260</td>\n",
       "      <td>Paved</td>\n",
       "      <td>NaN</td>\n",
       "      <td>Slightly Irregular</td>\n",
       "      <td>Near Flat/Level</td>\n",
       "      <td>All Public Utilities</td>\n",
       "      <td>Frontage on 2 Sides</td>\n",
       "      <td>...</td>\n",
       "      <td>12</td>\n",
       "      <td>2008</td>\n",
       "      <td>Warranty Deed - Conventional</td>\n",
       "      <td>Normal Sale</td>\n",
       "      <td>250000</td>\n",
       "      <td>299</td>\n",
       "      <td>0.0</td>\n",
       "      <td>0.0</td>\n",
       "      <td>1.0</td>\n",
       "      <td>0.0</td>\n",
       "    </tr>\n",
       "  </tbody>\n",
       "</table>\n",
       "<p>5 rows × 85 columns</p>\n",
       "</div>"
      ],
      "text/plain": [
       "   Id                       MSSubClass  LotFrontage  LotArea Street Alley  \\\n",
       "0   1             2-STORY 1946 & NEWER     0.377974     8450  Paved   NaN   \n",
       "1   2  1-STORY 1946 & NEWER ALL STYLES     0.506829     9600  Paved   NaN   \n",
       "2   3             2-STORY 1946 & NEWER     0.403745    11250  Paved   NaN   \n",
       "3   4             2-STORY 1945 & OLDER     0.335023     9550  Paved   NaN   \n",
       "4   5             2-STORY 1946 & NEWER     0.541191    14260  Paved   NaN   \n",
       "\n",
       "             LotShape      LandContour             Utilities  \\\n",
       "0             Regular  Near Flat/Level  All Public Utilities   \n",
       "1             Regular  Near Flat/Level  All Public Utilities   \n",
       "2  Slightly Irregular  Near Flat/Level  All Public Utilities   \n",
       "3  Slightly Irregular  Near Flat/Level  All Public Utilities   \n",
       "4  Slightly Irregular  Near Flat/Level  All Public Utilities   \n",
       "\n",
       "             LotConfig  ... MoSold YrSold                      SaleType  \\\n",
       "0           Inside Lot  ...      2   2008  Warranty Deed - Conventional   \n",
       "1  Frontage on 2 Sides  ...      5   2007  Warranty Deed - Conventional   \n",
       "2           Inside Lot  ...      9   2008  Warranty Deed - Conventional   \n",
       "3           Corner Lot  ...      2   2006  Warranty Deed - Conventional   \n",
       "4  Frontage on 2 Sides  ...     12   2008  Warranty Deed - Conventional   \n",
       "\n",
       "   SaleCondition SalePrice MSSubClass_Encoded  \\\n",
       "0    Normal Sale    208500                299   \n",
       "1    Normal Sale    181500                536   \n",
       "2    Normal Sale    223500                299   \n",
       "3  Abnormal Sale    140000                 60   \n",
       "4    Normal Sale    250000                299   \n",
       "\n",
       "  MSZoning_Floating Village Residential MSZoning_Residential High Density  \\\n",
       "0                                   0.0                               0.0   \n",
       "1                                   0.0                               0.0   \n",
       "2                                   0.0                               0.0   \n",
       "3                                   0.0                               0.0   \n",
       "4                                   0.0                               0.0   \n",
       "\n",
       "   MSZoning_Residential Low Density  MSZoning_Residential Medium Density  \n",
       "0                               1.0                                  0.0  \n",
       "1                               1.0                                  0.0  \n",
       "2                               1.0                                  0.0  \n",
       "3                               1.0                                  0.0  \n",
       "4                               1.0                                  0.0  \n",
       "\n",
       "[5 rows x 85 columns]"
      ]
     },
     "execution_count": 6,
     "metadata": {},
     "output_type": "execute_result"
    }
   ],
   "source": [
    "data.head()"
   ]
  },
  {
   "cell_type": "code",
   "execution_count": null,
   "id": "a88c8ccf-837b-4d68-a9a6-f8abb01ea072",
   "metadata": {},
   "outputs": [],
   "source": []
  },
  {
   "cell_type": "code",
   "execution_count": null,
   "id": "60b85eb8-9dc0-4169-8bbc-5170585f7eac",
   "metadata": {},
   "outputs": [],
   "source": []
  },
  {
   "cell_type": "code",
   "execution_count": 8,
   "id": "c8ccdd3b-df36-4088-80d0-129a45e79f3f",
   "metadata": {},
   "outputs": [],
   "source": [
    "from utils.plotting import DataVisualizer\n",
    "\n",
    "visualizer = DataVisualizer(data)"
   ]
  },
  {
   "cell_type": "code",
   "execution_count": null,
   "id": "0219009f-6dce-46a0-a662-bc7ba351dbd8",
   "metadata": {},
   "outputs": [],
   "source": [
    "visualizer.plot('LotFrontage')"
   ]
  },
  {
   "cell_type": "code",
   "execution_count": null,
   "id": "e4e6caf8-9422-4d36-9004-d28bba6892b2",
   "metadata": {},
   "outputs": [],
   "source": [
    "visualizer.plot('LotFrontage', 'SalePrice')"
   ]
  },
  {
   "cell_type": "code",
   "execution_count": null,
   "id": "b427e929-e0ed-45fb-9f51-3264e8ed816c",
   "metadata": {},
   "outputs": [],
   "source": []
  }
 ],
 "metadata": {
  "kernelspec": {
   "display_name": "Python 3 (ipykernel)",
   "language": "python",
   "name": "python3"
  },
  "language_info": {
   "codemirror_mode": {
    "name": "ipython",
    "version": 3
   },
   "file_extension": ".py",
   "mimetype": "text/x-python",
   "name": "python",
   "nbconvert_exporter": "python",
   "pygments_lexer": "ipython3",
   "version": "3.13.0"
  }
 },
 "nbformat": 4,
 "nbformat_minor": 5
}
