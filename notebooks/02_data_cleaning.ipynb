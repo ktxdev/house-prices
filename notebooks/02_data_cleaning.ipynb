{
 "cells": [
  {
   "cell_type": "markdown",
   "id": "9ec381d1-b6eb-4555-9b56-0d76fef8c0ca",
   "metadata": {},
   "source": [
    "# Import Packages"
   ]
  },
  {
   "cell_type": "code",
   "execution_count": 2,
   "id": "69687276-402e-4d75-a98d-3a81ededa6a2",
   "metadata": {},
   "outputs": [],
   "source": [
    "import os\n",
    "import sys\n",
    "import pandas as pd\n",
    "\n",
    "project_root = os.path.abspath(\"..\")\n",
    "if project_root not in sys.path:\n",
    "    sys.path.append(project_root)\n",
    "\n",
    "from utils.helpers import load_data"
   ]
  },
  {
   "cell_type": "markdown",
   "id": "4d71f604-da7e-4338-9e17-18747d16b757",
   "metadata": {},
   "source": [
    "# Load data"
   ]
  },
  {
   "cell_type": "code",
   "execution_count": 3,
   "id": "bf6f8acc-5ecd-4d06-bf62-f0d41915ab0f",
   "metadata": {},
   "outputs": [],
   "source": [
    "data = load_data(\"train.csv\")"
   ]
  },
  {
   "cell_type": "code",
   "execution_count": null,
   "id": "f9cf9240-ef3b-4a3c-b8f8-08ac50929e95",
   "metadata": {},
   "outputs": [],
   "source": []
  }
 ],
 "metadata": {
  "kernelspec": {
   "display_name": "Python 3 (ipykernel)",
   "language": "python",
   "name": "python3"
  },
  "language_info": {
   "codemirror_mode": {
    "name": "ipython",
    "version": 3
   },
   "file_extension": ".py",
   "mimetype": "text/x-python",
   "name": "python",
   "nbconvert_exporter": "python",
   "pygments_lexer": "ipython3",
   "version": "3.13.0"
  }
 },
 "nbformat": 4,
 "nbformat_minor": 5
}
